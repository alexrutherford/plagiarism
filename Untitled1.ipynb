{
 "cells": [
  {
   "cell_type": "code",
   "execution_count": 1,
   "metadata": {
    "collapsed": true
   },
   "outputs": [],
   "source": [
    "import spacy\n",
    "import random\n",
    "import numpy as np\n",
    "import pandas as pd\n",
    "import PyDictionary"
   ]
  },
  {
   "cell_type": "code",
   "execution_count": 2,
   "metadata": {
    "collapsed": true
   },
   "outputs": [],
   "source": [
    "testString=u'''In neither of these cases has May thought the dangers through properly. In her desire to appear decisive and in command she has brushed inconvenient realities aside. But realities always bite back eventually. The principal reality is that the DUP is not just any small party at Westminster. On the contrary, the unionists are a very particular entity. They bring three pieces of specially difficult baggage with them that a UK-wide political party like the Liberal Democrats, Labour or the Greens do not.\n",
    "'''"
   ]
  },
  {
   "cell_type": "code",
   "execution_count": 3,
   "metadata": {
    "collapsed": true
   },
   "outputs": [],
   "source": [
    "dictionary=PyDictionary.PyDictionary()"
   ]
  },
  {
   "cell_type": "code",
   "execution_count": 4,
   "metadata": {},
   "outputs": [],
   "source": [
    "nlp = spacy.load('en')"
   ]
  },
  {
   "cell_type": "code",
   "execution_count": 5,
   "metadata": {
    "collapsed": true
   },
   "outputs": [],
   "source": [
    "doc=nlp(testString)"
   ]
  },
  {
   "cell_type": "code",
   "execution_count": 6,
   "metadata": {
    "collapsed": true
   },
   "outputs": [],
   "source": [
    "df=pd.DataFrame(data={'text':[tok.text for tok in doc],'pos':[tok.pos_ for tok in doc]})"
   ]
  },
  {
   "cell_type": "code",
   "execution_count": 7,
   "metadata": {},
   "outputs": [
    {
     "data": {
      "text/html": [
       "<div>\n",
       "<style>\n",
       "    .dataframe thead tr:only-child th {\n",
       "        text-align: right;\n",
       "    }\n",
       "\n",
       "    .dataframe thead th {\n",
       "        text-align: left;\n",
       "    }\n",
       "\n",
       "    .dataframe tbody tr th {\n",
       "        vertical-align: top;\n",
       "    }\n",
       "</style>\n",
       "<table border=\"1\" class=\"dataframe\">\n",
       "  <thead>\n",
       "    <tr style=\"text-align: right;\">\n",
       "      <th></th>\n",
       "      <th>pos</th>\n",
       "      <th>text</th>\n",
       "    </tr>\n",
       "  </thead>\n",
       "  <tbody>\n",
       "    <tr>\n",
       "      <th>0</th>\n",
       "      <td>ADP</td>\n",
       "      <td>In</td>\n",
       "    </tr>\n",
       "    <tr>\n",
       "      <th>1</th>\n",
       "      <td>DET</td>\n",
       "      <td>neither</td>\n",
       "    </tr>\n",
       "    <tr>\n",
       "      <th>2</th>\n",
       "      <td>ADP</td>\n",
       "      <td>of</td>\n",
       "    </tr>\n",
       "    <tr>\n",
       "      <th>3</th>\n",
       "      <td>DET</td>\n",
       "      <td>these</td>\n",
       "    </tr>\n",
       "    <tr>\n",
       "      <th>4</th>\n",
       "      <td>NOUN</td>\n",
       "      <td>cases</td>\n",
       "    </tr>\n",
       "  </tbody>\n",
       "</table>\n",
       "</div>"
      ],
      "text/plain": [
       "    pos     text\n",
       "0   ADP       In\n",
       "1   DET  neither\n",
       "2   ADP       of\n",
       "3   DET    these\n",
       "4  NOUN    cases"
      ]
     },
     "execution_count": 7,
     "metadata": {},
     "output_type": "execute_result"
    }
   ],
   "source": [
    "df.head()"
   ]
  },
  {
   "cell_type": "code",
   "execution_count": 23,
   "metadata": {
    "collapsed": true
   },
   "outputs": [],
   "source": [
    "def jaccard(x,y):\n",
    " \n",
    "    intersection_cardinality = len(set.intersection(*[set(x), set(y)]))\n",
    "    union_cardinality = len(set.union(*[set(x), set(y)]))\n",
    "    return intersection_cardinality/float(union_cardinality)"
   ]
  },
  {
   "cell_type": "code",
   "execution_count": 15,
   "metadata": {
    "collapsed": true
   },
   "outputs": [],
   "source": [
    "def getSymPy(word,p=0.1):\n",
    "    if random.random()>p:\n",
    "        print 'unchanged'\n",
    "        return word\n",
    "    else:\n",
    "        syns=dictionary.synonym(word)\n",
    "        if syns>0:\n",
    "            return random.choice(syns)\n",
    "        else:\n",
    "            return word"
   ]
  },
  {
   "cell_type": "code",
   "execution_count": 9,
   "metadata": {
    "collapsed": true
   },
   "outputs": [],
   "source": [
    "def getSym(word,p=0.1):\n",
    "    \n",
    "    \n",
    "    #print df.head()\n",
    "    \n",
    "    if random.random()>p:\n",
    "        return word\n",
    "    else:\n",
    "        try:\n",
    "            mostSim=model.most_similar(positive=[word])\n",
    "        except:\n",
    "            return word\n",
    "    \n",
    "        df=pd.DataFrame(mostSim,columns=['word','prob'])\n",
    "        return df.sample(1,weights=df['prob'])['word'].values[0]"
   ]
  },
  {
   "cell_type": "code",
   "execution_count": 16,
   "metadata": {},
   "outputs": [
    {
     "name": "stdout",
     "output_type": "stream",
     "text": [
      "her has no Synonyms in the API\n",
      "CPU times: user 972 ms, sys: 28 ms, total: 1e+03 ms\n",
      "Wall time: 3.17 s\n"
     ]
    }
   ],
   "source": [
    "## Transform text\n",
    "%time df['transformedText']=df.apply(lambda row: getSymPy(row['text'],p=1.)\\\n",
    "        if row['pos'] in ['ADV','ADJ'] else row['text'],axis=1)\n",
    "\n",
    "df['isTransformed']=~(df['text']==df['transformedText'])"
   ]
  },
  {
   "cell_type": "code",
   "execution_count": 26,
   "metadata": {},
   "outputs": [
    {
     "data": {
      "text/html": [
       "<div>\n",
       "<style>\n",
       "    .dataframe thead tr:only-child th {\n",
       "        text-align: right;\n",
       "    }\n",
       "\n",
       "    .dataframe thead th {\n",
       "        text-align: left;\n",
       "    }\n",
       "\n",
       "    .dataframe tbody tr th {\n",
       "        vertical-align: top;\n",
       "    }\n",
       "</style>\n",
       "<table border=\"1\" class=\"dataframe\">\n",
       "  <thead>\n",
       "    <tr style=\"text-align: right;\">\n",
       "      <th></th>\n",
       "      <th>pos</th>\n",
       "      <th>text</th>\n",
       "      <th>transformedText</th>\n",
       "      <th>isTransformed</th>\n",
       "    </tr>\n",
       "  </thead>\n",
       "  <tbody>\n",
       "    <tr>\n",
       "      <th>0</th>\n",
       "      <td>ADP</td>\n",
       "      <td>In</td>\n",
       "      <td>In</td>\n",
       "      <td>False</td>\n",
       "    </tr>\n",
       "    <tr>\n",
       "      <th>1</th>\n",
       "      <td>DET</td>\n",
       "      <td>neither</td>\n",
       "      <td>neither</td>\n",
       "      <td>False</td>\n",
       "    </tr>\n",
       "    <tr>\n",
       "      <th>2</th>\n",
       "      <td>ADP</td>\n",
       "      <td>of</td>\n",
       "      <td>of</td>\n",
       "      <td>False</td>\n",
       "    </tr>\n",
       "    <tr>\n",
       "      <th>3</th>\n",
       "      <td>DET</td>\n",
       "      <td>these</td>\n",
       "      <td>these</td>\n",
       "      <td>False</td>\n",
       "    </tr>\n",
       "    <tr>\n",
       "      <th>4</th>\n",
       "      <td>NOUN</td>\n",
       "      <td>cases</td>\n",
       "      <td>cases</td>\n",
       "      <td>False</td>\n",
       "    </tr>\n",
       "  </tbody>\n",
       "</table>\n",
       "</div>"
      ],
      "text/plain": [
       "    pos     text transformedText  isTransformed\n",
       "0   ADP       In              In          False\n",
       "1   DET  neither         neither          False\n",
       "2   ADP       of              of          False\n",
       "3   DET    these           these          False\n",
       "4  NOUN    cases           cases          False"
      ]
     },
     "execution_count": 26,
     "metadata": {},
     "output_type": "execute_result"
    }
   ],
   "source": [
    "df.head()"
   ]
  },
  {
   "cell_type": "code",
   "execution_count": null,
   "metadata": {
    "collapsed": true
   },
   "outputs": [],
   "source": []
  },
  {
   "cell_type": "code",
   "execution_count": 17,
   "metadata": {
    "collapsed": true
   },
   "outputs": [],
   "source": [
    "htmlStringTransformed=' '.join(df.apply(lambda x:'<mark>%s</mark>' % x['transformedText'] if x['isTransformed']\\\n",
    "         else x['transformedText'],axis=1))\n",
    "\n",
    "htmlString=' '.join(df['text'])"
   ]
  },
  {
   "cell_type": "code",
   "execution_count": 18,
   "metadata": {},
   "outputs": [
    {
     "data": {
      "text/html": [
       "<div>\n",
       "<style>\n",
       "    .dataframe thead tr:only-child th {\n",
       "        text-align: right;\n",
       "    }\n",
       "\n",
       "    .dataframe thead th {\n",
       "        text-align: left;\n",
       "    }\n",
       "\n",
       "    .dataframe tbody tr th {\n",
       "        vertical-align: top;\n",
       "    }\n",
       "</style>\n",
       "<table border=\"1\" class=\"dataframe\">\n",
       "  <thead>\n",
       "    <tr style=\"text-align: right;\">\n",
       "      <th></th>\n",
       "      <th>pos</th>\n",
       "      <th>text</th>\n",
       "      <th>transformedText</th>\n",
       "      <th>isTransformed</th>\n",
       "    </tr>\n",
       "  </thead>\n",
       "  <tbody>\n",
       "    <tr>\n",
       "      <th>11</th>\n",
       "      <td>ADV</td>\n",
       "      <td>properly</td>\n",
       "      <td>accurately</td>\n",
       "      <td>True</td>\n",
       "    </tr>\n",
       "    <tr>\n",
       "      <th>18</th>\n",
       "      <td>ADJ</td>\n",
       "      <td>decisive</td>\n",
       "      <td>definitive</td>\n",
       "      <td>True</td>\n",
       "    </tr>\n",
       "    <tr>\n",
       "      <th>25</th>\n",
       "      <td>ADJ</td>\n",
       "      <td>inconvenient</td>\n",
       "      <td>unwieldy</td>\n",
       "      <td>True</td>\n",
       "    </tr>\n",
       "    <tr>\n",
       "      <th>27</th>\n",
       "      <td>ADV</td>\n",
       "      <td>aside</td>\n",
       "      <td>down</td>\n",
       "      <td>True</td>\n",
       "    </tr>\n",
       "    <tr>\n",
       "      <th>31</th>\n",
       "      <td>ADV</td>\n",
       "      <td>always</td>\n",
       "      <td>consistently</td>\n",
       "      <td>True</td>\n",
       "    </tr>\n",
       "    <tr>\n",
       "      <th>33</th>\n",
       "      <td>ADV</td>\n",
       "      <td>back</td>\n",
       "      <td>behind</td>\n",
       "      <td>True</td>\n",
       "    </tr>\n",
       "    <tr>\n",
       "      <th>34</th>\n",
       "      <td>ADV</td>\n",
       "      <td>eventually</td>\n",
       "      <td>sooner or later</td>\n",
       "      <td>True</td>\n",
       "    </tr>\n",
       "    <tr>\n",
       "      <th>44</th>\n",
       "      <td>ADV</td>\n",
       "      <td>not</td>\n",
       "      <td>not at all</td>\n",
       "      <td>True</td>\n",
       "    </tr>\n",
       "    <tr>\n",
       "      <th>45</th>\n",
       "      <td>ADV</td>\n",
       "      <td>just</td>\n",
       "      <td>equitable</td>\n",
       "      <td>True</td>\n",
       "    </tr>\n",
       "    <tr>\n",
       "      <th>47</th>\n",
       "      <td>ADJ</td>\n",
       "      <td>small</td>\n",
       "      <td>slight</td>\n",
       "      <td>True</td>\n",
       "    </tr>\n",
       "    <tr>\n",
       "      <th>60</th>\n",
       "      <td>ADV</td>\n",
       "      <td>very</td>\n",
       "      <td>bare</td>\n",
       "      <td>True</td>\n",
       "    </tr>\n",
       "    <tr>\n",
       "      <th>61</th>\n",
       "      <td>ADJ</td>\n",
       "      <td>particular</td>\n",
       "      <td>singular</td>\n",
       "      <td>True</td>\n",
       "    </tr>\n",
       "    <tr>\n",
       "      <th>69</th>\n",
       "      <td>ADV</td>\n",
       "      <td>specially</td>\n",
       "      <td>uniquely</td>\n",
       "      <td>True</td>\n",
       "    </tr>\n",
       "    <tr>\n",
       "      <th>70</th>\n",
       "      <td>ADJ</td>\n",
       "      <td>difficult</td>\n",
       "      <td>crucial</td>\n",
       "      <td>True</td>\n",
       "    </tr>\n",
       "    <tr>\n",
       "      <th>78</th>\n",
       "      <td>ADJ</td>\n",
       "      <td>wide</td>\n",
       "      <td>full</td>\n",
       "      <td>True</td>\n",
       "    </tr>\n",
       "    <tr>\n",
       "      <th>79</th>\n",
       "      <td>ADJ</td>\n",
       "      <td>political</td>\n",
       "      <td>economical</td>\n",
       "      <td>True</td>\n",
       "    </tr>\n",
       "    <tr>\n",
       "      <th>91</th>\n",
       "      <td>ADV</td>\n",
       "      <td>not</td>\n",
       "      <td>not either</td>\n",
       "      <td>True</td>\n",
       "    </tr>\n",
       "  </tbody>\n",
       "</table>\n",
       "</div>"
      ],
      "text/plain": [
       "    pos          text  transformedText  isTransformed\n",
       "11  ADV      properly       accurately           True\n",
       "18  ADJ      decisive       definitive           True\n",
       "25  ADJ  inconvenient         unwieldy           True\n",
       "27  ADV         aside             down           True\n",
       "31  ADV        always     consistently           True\n",
       "33  ADV          back           behind           True\n",
       "34  ADV    eventually  sooner or later           True\n",
       "44  ADV           not       not at all           True\n",
       "45  ADV          just        equitable           True\n",
       "47  ADJ         small           slight           True\n",
       "60  ADV          very             bare           True\n",
       "61  ADJ    particular         singular           True\n",
       "69  ADV     specially         uniquely           True\n",
       "70  ADJ     difficult          crucial           True\n",
       "78  ADJ          wide             full           True\n",
       "79  ADJ     political       economical           True\n",
       "91  ADV           not       not either           True"
      ]
     },
     "execution_count": 18,
     "metadata": {},
     "output_type": "execute_result"
    }
   ],
   "source": [
    "df[df['isTransformed']]"
   ]
  },
  {
   "cell_type": "code",
   "execution_count": 19,
   "metadata": {
    "collapsed": true
   },
   "outputs": [],
   "source": [
    "from IPython.core.display import display, HTML"
   ]
  },
  {
   "cell_type": "code",
   "execution_count": 20,
   "metadata": {},
   "outputs": [
    {
     "data": {
      "text/html": [
       "In neither of these cases has May thought the dangers through properly . In her desire to appear decisive and in command she has brushed inconvenient realities aside . But realities always bite back eventually . The principal reality is that the DUP is not just any small party at Westminster . On the contrary , the unionists are a very particular entity . They bring three pieces of specially difficult baggage with them that a UK - wide political party like the Liberal Democrats , Labour or the Greens do not . \n"
      ],
      "text/plain": [
       "<IPython.core.display.HTML object>"
      ]
     },
     "metadata": {},
     "output_type": "display_data"
    }
   ],
   "source": [
    "display(HTML(htmlString))"
   ]
  },
  {
   "cell_type": "code",
   "execution_count": 21,
   "metadata": {},
   "outputs": [
    {
     "data": {
      "text/html": [
       "In neither of these cases has May thought the dangers through <mark>accurately</mark> . In her desire to appear <mark>definitive</mark> and in command she has brushed <mark>unwieldy</mark> realities <mark>down</mark> . But realities <mark>consistently</mark> bite <mark>behind</mark> <mark>sooner or later</mark> . The principal reality is that the DUP is <mark>not at all</mark> <mark>equitable</mark> any <mark>slight</mark> party at Westminster . On the contrary , the unionists are a <mark>bare</mark> <mark>singular</mark> entity . They bring three pieces of <mark>uniquely</mark> <mark>crucial</mark> baggage with them that a UK - <mark>full</mark> <mark>economical</mark> party like the Liberal Democrats , Labour or the Greens do <mark>not either</mark> . \n"
      ],
      "text/plain": [
       "<IPython.core.display.HTML object>"
      ]
     },
     "metadata": {},
     "output_type": "display_data"
    }
   ],
   "source": [
    "display(HTML(htmlStringTransformed))"
   ]
  },
  {
   "cell_type": "code",
   "execution_count": 25,
   "metadata": {},
   "outputs": [
    {
     "name": "stdout",
     "output_type": "stream",
     "text": [
      "0.886\n"
     ]
    }
   ],
   "source": [
    "print '%.3f' % jaccard(htmlStringTransformed,htmlString)"
   ]
  },
  {
   "cell_type": "code",
   "execution_count": 46,
   "metadata": {},
   "outputs": [
    {
     "data": {
      "text/plain": [
       "0                   \\n\n",
       "1                   In\n",
       "2              neither\n",
       "3                   of\n",
       "4                these\n",
       "5                cases\n",
       "6                  has\n",
       "7                  May\n",
       "8              thought\n",
       "9                ofthe\n",
       "10             dangers\n",
       "11                into\n",
       "12        inadequately\n",
       "13                   .\n",
       "14                  In\n",
       "15                 her\n",
       "16              desire\n",
       "17                  to\n",
       "18              appear\n",
       "19            decisive\n",
       "20                 and\n",
       "21                  in\n",
       "22             command\n",
       "23                 she\n",
       "24                 has\n",
       "25             brushed\n",
       "26        inconvenient\n",
       "27           realities\n",
       "28                away\n",
       "29                   .\n",
       "            ...       \n",
       "65                They\n",
       "66               bring\n",
       "67               three\n",
       "68              pieces\n",
       "69                  of\n",
       "70           specially\n",
       "71           difficult\n",
       "72    baggage_handling\n",
       "73                with\n",
       "74                them\n",
       "75                that\n",
       "76                   a\n",
       "77                  UK\n",
       "78                   -\n",
       "79                wide\n",
       "80           political\n",
       "81               party\n",
       "82                like\n",
       "83                 the\n",
       "84      Stephen_Harper\n",
       "85           Democrats\n",
       "86                   ,\n",
       "87              Labour\n",
       "88                  or\n",
       "89                 the\n",
       "90              Greens\n",
       "91                  do\n",
       "92                 not\n",
       "93                   .\n",
       "94                \\n\\n\n",
       "Name: text, Length: 95, dtype: object"
      ]
     },
     "execution_count": 46,
     "metadata": {},
     "output_type": "execute_result"
    }
   ],
   "source": [
    "df['text'].apply(getSym)"
   ]
  },
  {
   "cell_type": "code",
   "execution_count": 11,
   "metadata": {},
   "outputs": [
    {
     "data": {
      "text/plain": [
       "u'\\n In neither of these cases has May thought the dangers through properly . In her desire to appear decisive and in command she has brushed inconvenient realities aside . But realities always bite back eventually . The principal reality is that the DUP is not just any small party at Westminster . On the contrary , the unionists are a very particular entity . They bring three pieces of specially difficult baggage with them that a UK - wide political party like the Liberal Democrats , Labour or the Greens do not . \\n\\n'"
      ]
     },
     "execution_count": 11,
     "metadata": {},
     "output_type": "execute_result"
    }
   ],
   "source": [
    "' '.join(df['text'])"
   ]
  },
  {
   "cell_type": "code",
   "execution_count": 7,
   "metadata": {},
   "outputs": [
    {
     "name": "stdout",
     "output_type": "stream",
     "text": [
      "\n",
      "SPACE\n",
      "In ADP\n",
      "neither DET\n",
      "of ADP\n",
      "these DET\n",
      "cases NOUN\n",
      "has VERB\n",
      "May PROPN\n",
      "thought VERB\n",
      "the DET\n",
      "dangers NOUN\n",
      "through ADP\n",
      "properly ADV\n",
      ". PUNCT\n",
      "In ADP\n",
      "her ADJ\n",
      "desire NOUN\n",
      "to PART\n",
      "appear VERB\n",
      "decisive ADJ\n",
      "and CONJ\n",
      "in ADP\n",
      "command NOUN\n",
      "she PRON\n",
      "has VERB\n",
      "brushed VERB\n",
      "inconvenient ADJ\n",
      "realities NOUN\n",
      "aside ADV\n",
      ". PUNCT\n",
      "But CONJ\n",
      "realities NOUN\n",
      "always ADV\n",
      "bite VERB\n",
      "back PART\n",
      "eventually ADV\n",
      ". PUNCT\n",
      "The DET\n",
      "principal ADJ\n",
      "reality NOUN\n",
      "is VERB\n",
      "that ADP\n",
      "the DET\n",
      "DUP PROPN\n",
      "is VERB\n",
      "not ADV\n",
      "just ADV\n",
      "any DET\n",
      "small ADJ\n",
      "party NOUN\n",
      "at ADP\n",
      "Westminster PROPN\n",
      ". PUNCT\n",
      "On ADP\n",
      "the DET\n",
      "contrary NOUN\n",
      ", PUNCT\n",
      "the DET\n",
      "unionists NOUN\n",
      "are VERB\n",
      "a DET\n",
      "very ADV\n",
      "particular ADJ\n",
      "entity NOUN\n",
      ". PUNCT\n",
      "They PRON\n",
      "bring VERB\n",
      "three NUM\n",
      "pieces NOUN\n",
      "of ADP\n",
      "specially ADV\n",
      "difficult ADJ\n",
      "baggage NOUN\n",
      "with ADP\n",
      "them PRON\n",
      "that ADP\n",
      "a DET\n",
      "UK PROPN\n",
      "- PUNCT\n",
      "wide ADJ\n",
      "political ADJ\n",
      "party NOUN\n",
      "like ADP\n",
      "the DET\n",
      "Liberal PROPN\n",
      "Democrats PROPN\n",
      ", PUNCT\n",
      "Labour PROPN\n",
      "or CONJ\n",
      "the DET\n",
      "Greens PROPN\n",
      "do VERB\n",
      "not ADV\n",
      ". PUNCT\n",
      "\n",
      "\n",
      "SPACE\n"
     ]
    }
   ],
   "source": [
    "for tok in doc:\n",
    "    print tok.text,tok.pos_"
   ]
  },
  {
   "cell_type": "code",
   "execution_count": null,
   "metadata": {
    "collapsed": true
   },
   "outputs": [],
   "source": []
  }
 ],
 "metadata": {
  "kernelspec": {
   "display_name": "Python 2",
   "language": "python",
   "name": "python2"
  },
  "language_info": {
   "codemirror_mode": {
    "name": "ipython",
    "version": 2
   },
   "file_extension": ".py",
   "mimetype": "text/x-python",
   "name": "python",
   "nbconvert_exporter": "python",
   "pygments_lexer": "ipython2",
   "version": "2.7.13"
  }
 },
 "nbformat": 4,
 "nbformat_minor": 1
}
